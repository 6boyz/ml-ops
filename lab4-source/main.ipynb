{
 "cells": [
  {
   "cell_type": "code",
   "execution_count": 11,
   "metadata": {},
   "outputs": [],
   "source": [
    "from catboost.datasets import titanic\n",
    "import pandas as pd\n",
    "\n",
    "DATA = '../lab4/data/'\n",
    "\n",
    "TEST_PATH = DATA + 'titanic.test.parquet.gzip'\n",
    "TRAIN_PATH = DATA + 'titanic.train.parquet.gzip'"
   ]
  },
  {
   "cell_type": "code",
   "execution_count": 8,
   "metadata": {},
   "outputs": [],
   "source": [
    "# Загрузка данных\n",
    "\n",
    "titanic_train, titanic_test = titanic()\n",
    "\n",
    "titanic_train.to_parquet(TRAIN_PATH)\n",
    "titanic_test.to_parquet(TEST_PATH)"
   ]
  },
  {
   "cell_type": "code",
   "execution_count": 9,
   "metadata": {},
   "outputs": [],
   "source": [
    "# Удаление лишних колонок\n",
    "\n",
    "titanic_train = pd.read_parquet(TRAIN_PATH)\n",
    "titanic_test = pd.read_parquet(TEST_PATH)\n",
    "\n",
    "cols_to_drop = [col for col in titanic_test.columns if col not in [\"Pclass\", \"Sex\", \"Age\"]]\n",
    "\n",
    "titanic_train.drop(cols_to_drop, axis=1).to_parquet(TRAIN_PATH)\n",
    "titanic_test.drop(cols_to_drop, axis=1).to_parquet(TEST_PATH)"
   ]
  },
  {
   "cell_type": "code",
   "execution_count": 12,
   "metadata": {},
   "outputs": [],
   "source": [
    "TEST = 'TEST'\n",
    "TRAIN = 'TRAIN'"
   ]
  },
  {
   "cell_type": "code",
   "execution_count": 20,
   "metadata": {},
   "outputs": [],
   "source": [
    "# Заполнение пропусок средним значением в Age\n",
    "\n",
    "data = pd.concat([\n",
    "    pd.read_parquet(TRAIN_PATH).assign(COL_TYPE=TEST), \n",
    "    pd.read_parquet(TEST_PATH).assign(COL_TYPE=TRAIN)\n",
    "])\n",
    "\n",
    "age_mean = data['Age'].mean()\n",
    "\n",
    "data['Age'] = data['Age'].fillna(age_mean)\n",
    "\n",
    "titanic_test, titanic_train = data[data[\"COL_TYPE\"].eq(TEST)].drop('COL_TYPE', axis=1), \\\n",
    "  data[data[\"COL_TYPE\"].eq(TRAIN)].drop('COL_TYPE', axis=1)\n",
    "\n",
    "titanic_test.to_parquet(TEST_PATH)\n",
    "titanic_train.to_parquet(TRAIN_PATH)"
   ]
  },
  {
   "cell_type": "code",
   "execution_count": 23,
   "metadata": {},
   "outputs": [],
   "source": [
    "# OHE для колонки Sex\n",
    "\n",
    "data = pd.concat([\n",
    "    pd.read_parquet(TRAIN_PATH).assign(COL_TYPE=TEST), \n",
    "    pd.read_parquet(TEST_PATH).assign(COL_TYPE=TRAIN)\n",
    "])\n",
    "\n",
    "data = pd.get_dummies(data, columns=['Sex'])\n",
    "\n",
    "titanic_test, titanic_train = data[data[\"COL_TYPE\"].eq(TEST)].drop('COL_TYPE', axis=1), \\\n",
    "  data[data[\"COL_TYPE\"].eq(TRAIN)].drop('COL_TYPE', axis=1)\n",
    "\n",
    "titanic_test.to_parquet(TEST_PATH)\n",
    "titanic_train.to_parquet(TRAIN_PATH)"
   ]
  }
 ],
 "metadata": {
  "kernelspec": {
   "display_name": ".venv",
   "language": "python",
   "name": "python3"
  },
  "language_info": {
   "codemirror_mode": {
    "name": "ipython",
    "version": 3
   },
   "file_extension": ".py",
   "mimetype": "text/x-python",
   "name": "python",
   "nbconvert_exporter": "python",
   "pygments_lexer": "ipython3",
   "version": "3.10.11"
  },
  "orig_nbformat": 4
 },
 "nbformat": 4,
 "nbformat_minor": 2
}
