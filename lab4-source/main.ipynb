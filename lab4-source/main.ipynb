{
 "cells": [
  {
   "cell_type": "code",
   "execution_count": 6,
   "metadata": {},
   "outputs": [],
   "source": [
    "from catboost.datasets import titanic\n",
    "\n",
    "DATA = '../lab4/data/'\n",
    "\n",
    "TEST_PATH = DATA + 'titanic.test.parquet.gzip'\n",
    "TRAIN_PATH = DATA + 'titanic.train.parquet.gzip'\n",
    "\n",
    "titanic_train, titanic_test = titanic()"
   ]
  },
  {
   "cell_type": "code",
   "execution_count": 3,
   "metadata": {},
   "outputs": [],
   "source": [
    "titanic_train.to_parquet(TRAIN_PATH)\n",
    "titanic_test.to_parquet(TEST_PATH)"
   ]
  },
  {
   "cell_type": "code",
   "execution_count": 30,
   "metadata": {},
   "outputs": [],
   "source": [
    "cols_to_drop = [col for col in titanic_test.columns if col not in [\"Pclass\", \"Sex\", \"Age\"]]\n",
    "\n",
    "titanic_train.drop(cols_to_drop, axis=1).to_parquet(TRAIN_PATH)\n",
    "titanic_test.drop(cols_to_drop, axis=1).to_parquet(TEST_PATH)"
   ]
  },
  {
   "cell_type": "code",
   "execution_count": null,
   "metadata": {},
   "outputs": [],
   "source": []
  }
 ],
 "metadata": {
  "kernelspec": {
   "display_name": ".venv",
   "language": "python",
   "name": "python3"
  },
  "language_info": {
   "codemirror_mode": {
    "name": "ipython",
    "version": 3
   },
   "file_extension": ".py",
   "mimetype": "text/x-python",
   "name": "python",
   "nbconvert_exporter": "python",
   "pygments_lexer": "ipython3",
   "version": "3.10.11"
  },
  "orig_nbformat": 4
 },
 "nbformat": 4,
 "nbformat_minor": 2
}
