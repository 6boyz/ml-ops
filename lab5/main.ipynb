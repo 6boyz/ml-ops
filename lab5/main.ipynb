{
 "cells": [
  {
   "cell_type": "code",
   "execution_count": 1,
   "metadata": {},
   "outputs": [
    {
     "name": "stdout",
     "output_type": "stream",
     "text": [
      "Writing generate_data.py\n"
     ]
    }
   ],
   "source": [
    "%%writefile generate_data.py\n",
    "\n",
    "import numpy as np\n",
    "import pandas as pd\n",
    "\n",
    "STATE = 1337\n",
    "COUNT = 500\n",
    "EMISSIONS_COUNT = 120\n",
    "MIN = 0\n",
    "MAX = 1000\n",
    "\n",
    "random_state = np.random.RandomState(STATE)\n",
    "np.random.seed(STATE)\n",
    "\n",
    "a = 20 * np.random.randn(COUNT) + 100\n",
    "b = 30 * np.random.randn(COUNT) + 200\n",
    "y = 2 * a + 8 * b + 10 * np.random.randn(COUNT) + 30\n",
    "data = pd.DataFrame(list(zip(a, b, y)), columns =['a', 'b', 'y'])\n",
    "data = data.round(0)\n",
    "data.to_csv('data-1.csv', index=False)\n",
    "\n",
    "a = 20 * np.random.randn(COUNT) + 100\n",
    "b = 30 * np.random.randn(COUNT) + 200\n",
    "y = 2 * a + 8 * b + 10 * np.random.randn(COUNT) + 30\n",
    "dataEmitted = pd.DataFrame(list(zip(a, b, y)), columns =['a', 'b', 'y'])\n",
    "dataEmitted = dataEmitted.round(0)\n",
    "dataEmitted['b'][int(COUNT / 2 - EMISSIONS_COUNT):int(COUNT / 2 + EMISSIONS_COUNT)] *= 2\n",
    "dataEmitted.to_csv('data-2.csv', index=False)\n",
    "\n",
    "a = 15 * np.random.randn(COUNT) + 105\n",
    "b = 33 * np.random.randn(COUNT) + 295\n",
    "y = 2.4 * a + 7.6 * b + 10 * np.random.randn(COUNT) + 20\n",
    "data = pd.DataFrame(list(zip(a, b, y)), columns =['a', 'b', 'y'])\n",
    "data = data.round(0)\n",
    "data.to_csv('data-3.csv', index=False)"
   ]
  },
  {
   "cell_type": "code",
   "execution_count": 2,
   "metadata": {},
   "outputs": [
    {
     "name": "stdout",
     "output_type": "stream",
     "text": [
      "Writing create_model.py\n"
     ]
    }
   ],
   "source": [
    "%%writefile create_model.py\n",
    "\n",
    "import pickle\n",
    "import pandas as pd\n",
    "from sklearn.linear_model import Ridge\n",
    "\n",
    "data = pd.read_csv('data-1.csv')\n",
    "clf = Ridge()\n",
    "clf.fit(data[['a', 'b']], data['y'])\n",
    "\n",
    "pickle.dump(clf, open('model.pckl', 'wb'))"
   ]
  },
  {
   "cell_type": "code",
   "execution_count": 3,
   "metadata": {},
   "outputs": [
    {
     "name": "stdout",
     "output_type": "stream",
     "text": [
      "Writing test_model.py\n"
     ]
    }
   ],
   "source": [
    "%%writefile test_model.py\n",
    "\n",
    "import pickle\n",
    "import pandas as pd\n",
    "from sklearn.metrics import r2_score\n",
    "\n",
    "BORDER = .85\n",
    "\n",
    "def get_model_score(data_path: str, model_path='model.pckl'):\n",
    "  model = pickle.load(open(model_path, 'rb'))\n",
    "  data = pd.read_csv(data_path)\n",
    "  predicted = model.predict(data[['a', 'b']])\n",
    "  return r2_score(data['y'], predicted)\n",
    "\n",
    "def test_model_1():\n",
    "    assert get_model_score('data-1.csv') > BORDER\n",
    "\n",
    "def test_model_2():\n",
    "    assert get_model_score('data-2.csv') > BORDER\n",
    "\n",
    "def test_model_3():\n",
    "    assert get_model_score('data-3.csv') > BORDER"
   ]
  },
  {
   "cell_type": "code",
   "execution_count": null,
   "metadata": {},
   "outputs": [],
   "source": [
    "!\"ls\""
   ]
  },
  {
   "cell_type": "code",
   "execution_count": null,
   "metadata": {},
   "outputs": [],
   "source": [
    "%run -i \"generate_data.py\"\n",
    "%run -i \"create_model.py\"\n",
    "!\"pytest\""
   ]
  }
 ],
 "metadata": {
  "kernelspec": {
   "display_name": ".venv",
   "language": "python",
   "name": "python3"
  },
  "language_info": {
   "codemirror_mode": {
    "name": "ipython",
    "version": 3
   },
   "file_extension": ".py",
   "mimetype": "text/x-python",
   "name": "python",
   "nbconvert_exporter": "python",
   "pygments_lexer": "ipython3",
   "version": "3.10.11"
  },
  "orig_nbformat": 4
 },
 "nbformat": 4,
 "nbformat_minor": 2
}
